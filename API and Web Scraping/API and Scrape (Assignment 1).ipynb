{
 "cells": [
  {
   "cell_type": "markdown",
   "id": "95952cac",
   "metadata": {},
   "source": [
    "# ADS 509 Module 1: APIs and Web Scraping\n",
    "\n",
    "This notebook has three parts. In the first part you will pull data from the Twitter API. In the second, you will scrape lyrics from AZLyrics.com. In the last part, you'll run code that verifies the completeness of your data pull. \n",
    "\n",
    "For this assignment you have chosen two musical artists who have at least 100,000 Twitter followers and 20 songs with lyrics on AZLyrics.com. In this part of the assignment we pull the some of the user information for the followers of your artist and store them in text files. \n"
   ]
  },
  {
   "cell_type": "markdown",
   "id": "4ce62b2b",
   "metadata": {},
   "source": [
    "## Important Note\n",
    "\n",
    "This assignment requires you to have a version of Tweepy that is at least version 4. The latest version is 4.10 as I write this. Critically, this version of Tweepy is *not* on the upgrade path from Version 3, so you will not be able to simply upgrade the package if you are on Version 3. Instead you will need to explicitly install version 4, which you can do with a command like this: `pip install \"tweepy>=4\"`. You will also be using Version 2 of the Twitter API for this assignment. \n",
    "\n",
    "Run the below cell. If your version of Tweepy begins with a \"4\", then you should be good to go. If it begins with a \"3\" then run the following command, found [here](https://stackoverflow.com/questions/5226311/installing-specific-package-version-with-pip), at the command line or in a cell: `pip install -Iv tweepy==4.9`. (You may want to update that version number if Tweepy has moved on past 4.9. "
   ]
  },
  {
   "cell_type": "code",
   "execution_count": 2,
   "id": "dabc256a",
   "metadata": {},
   "outputs": [
    {
     "name": "stdout",
     "output_type": "stream",
     "text": [
      "Requirement already satisfied: tweepy in /Library/Frameworks/Python.framework/Versions/3.10/lib/python3.10/site-packages (4.10.1)\n",
      "Requirement already satisfied: requests<3,>=2.27.0 in /Library/Frameworks/Python.framework/Versions/3.10/lib/python3.10/site-packages (from tweepy) (2.28.1)\n",
      "Requirement already satisfied: oauthlib<4,>=3.2.0 in /Library/Frameworks/Python.framework/Versions/3.10/lib/python3.10/site-packages (from tweepy) (3.2.1)\n",
      "Requirement already satisfied: requests-oauthlib<2,>=1.2.0 in /Library/Frameworks/Python.framework/Versions/3.10/lib/python3.10/site-packages (from tweepy) (1.3.1)\n",
      "Requirement already satisfied: charset-normalizer<3,>=2 in /Library/Frameworks/Python.framework/Versions/3.10/lib/python3.10/site-packages (from requests<3,>=2.27.0->tweepy) (2.1.1)\n",
      "Requirement already satisfied: urllib3<1.27,>=1.21.1 in /Library/Frameworks/Python.framework/Versions/3.10/lib/python3.10/site-packages (from requests<3,>=2.27.0->tweepy) (1.26.12)\n",
      "Requirement already satisfied: idna<4,>=2.5 in /Library/Frameworks/Python.framework/Versions/3.10/lib/python3.10/site-packages (from requests<3,>=2.27.0->tweepy) (3.3)\n",
      "Requirement already satisfied: certifi>=2017.4.17 in /Library/Frameworks/Python.framework/Versions/3.10/lib/python3.10/site-packages (from requests<3,>=2.27.0->tweepy) (2022.6.15.1)\n"
     ]
    }
   ],
   "source": [
    "!pip3 install tweepy"
   ]
  },
  {
   "cell_type": "markdown",
   "id": "069b7ae8",
   "metadata": {},
   "source": [
    "## General Assignment Instructions\n",
    "\n",
    "These instructions are included in every assignment, to remind you of the coding standards for the class. Feel free to delete this cell after reading it. \n",
    "\n",
    "One sign of mature code is conforming to a style guide. We recommend the [Google Python Style Guide](https://google.github.io/styleguide/pyguide.html). If you use a different style guide, please include a cell with a link. \n",
    "\n",
    "Your code should be relatively easy-to-read, sensibly commented, and clean. Writing code is a messy process, so please be sure to edit your final submission. Remove any cells that are not needed or parts of cells that contain unnecessary code. Remove inessential `import` statements and make sure that all such statements are moved into the designated cell. \n",
    "\n",
    "Make use of non-code cells for written commentary. These cells should be grammatical and clearly written. In some of these cells you will have questions to answer. The questions will be marked by a \"Q:\" and will have a corresponding \"A:\" spot for you. *Make sure to answer every question marked with a `Q:` for full credit.* \n"
   ]
  },
  {
   "cell_type": "markdown",
   "id": "91c8969e",
   "metadata": {},
   "source": [
    "# Twitter API Pull"
   ]
  },
  {
   "cell_type": "code",
   "execution_count": 2,
   "id": "185076b0",
   "metadata": {},
   "outputs": [],
   "source": [
    "# for the twitter section\n",
    "import tweepy\n",
    "import os\n",
    "import datetime\n",
    "import re\n",
    "from pprint import pprint\n",
    "\n",
    "# for the lyrics scrape section\n",
    "import requests\n",
    "import time\n",
    "from bs4 import BeautifulSoup\n",
    "from collections import defaultdict, Counter"
   ]
  },
  {
   "cell_type": "code",
   "execution_count": 2,
   "id": "a47e2d5f",
   "metadata": {},
   "outputs": [],
   "source": [
    "# Use this cell for any import statements you add\n",
    "from IPython.display import clear_output, display\n",
    "import random\n",
    "import time\n",
    "import pandas as pd\n",
    "import shutil\n",
    "import os"
   ]
  },
  {
   "cell_type": "markdown",
   "id": "c21c86ec",
   "metadata": {},
   "source": [
    "We need bring in our API keys. Since API keys should be kept secret, we'll keep them in a file called `api_keys.py`. This file should be stored in the directory where you store this notebook. The example file is provided for you on Blackboard. The example has API keys that are _not_ functional, so you'll need to get Twitter credentials and replace the placeholder keys. "
   ]
  },
  {
   "cell_type": "code",
   "execution_count": 3,
   "id": "f01bdec6",
   "metadata": {},
   "outputs": [],
   "source": [
    "from api_keys import api_key, api_key_secret, bearer_token"
   ]
  },
  {
   "cell_type": "code",
   "execution_count": 4,
   "id": "d08eb1fd",
   "metadata": {},
   "outputs": [],
   "source": [
    "client = tweepy.Client(bearer_token,wait_on_rate_limit=True)"
   ]
  },
  {
   "cell_type": "markdown",
   "id": "6aa67032",
   "metadata": {},
   "source": [
    "# Testing the API\n",
    "\n",
    "The Twitter APIs are quite rich. Let's play around with some of the features before we dive into this section of the assignment. For our testing, it's convenient to have a small data set to play with. We will seed the code with the handle of John Chandler, one of the instructors in this course. His handle is `@37chandler`. Feel free to use a different handle if you would like to look at someone else's data. \n",
    "\n",
    "We will write code to explore a few aspects of the API: \n",
    "\n",
    "1. Pull some of the followers @37chandler.\n",
    "1. Explore response data, which gives us information about Twitter users. \n",
    "1. Pull the last few tweets by @37chandler.\n"
   ]
  },
  {
   "cell_type": "code",
   "execution_count": 195,
   "id": "b5a236ca",
   "metadata": {},
   "outputs": [],
   "source": [
    "handle = \"37chandler\"\n",
    "\n",
    "user_obj = client.get_user(username=handle)\n",
    "\n",
    "followers = client.get_users_followers(user_obj.data.id, user_fields=[\"created_at\",\"description\",\"location\", \"public_metrics\"])"
   ]
  },
  {
   "cell_type": "markdown",
   "id": "de7892a4",
   "metadata": {},
   "source": [
    "Now let's explore these a bit. We'll start by printing out names, locations, following count, and followers count for these users. "
   ]
  },
  {
   "cell_type": "markdown",
   "id": "8bbfe05f",
   "metadata": {},
   "source": [
    "Let's find the person who follows this handle who has the most followers. "
   ]
  },
  {
   "cell_type": "code",
   "execution_count": 191,
   "id": "bda3eec3",
   "metadata": {},
   "outputs": [
    {
     "name": "stdout",
     "output_type": "stream",
     "text": [
      "WedgeLIVE\n",
      "{'followers_count': 14157, 'following_count': 2223, 'tweet_count': 56071, 'listed_count': 218}\n"
     ]
    }
   ],
   "source": [
    "max_followers = 0\n",
    "\n",
    "for idx, user in enumerate(followers.data) :\n",
    "    followers_count = user.public_metrics['followers_count']\n",
    "    \n",
    "    if followers_count > max_followers :\n",
    "        max_followers = followers_count\n",
    "        max_follower_user = user\n",
    "\n",
    "        \n",
    "print(max_follower_user)\n",
    "print(max_follower_user.public_metrics)"
   ]
  },
  {
   "cell_type": "markdown",
   "id": "2dad0a3f",
   "metadata": {},
   "source": [
    "Let's pull some more user fields and take a look at them. The fields can be specified in the `user_fields` argument. "
   ]
  },
  {
   "cell_type": "code",
   "execution_count": 192,
   "id": "0432bbb7",
   "metadata": {},
   "outputs": [],
   "source": [
    "response = client.get_user(id=user_obj.data.id,\n",
    "                          user_fields=[\"created_at\",\"description\",\"location\",\n",
    "                                       \"entities\",\"name\",\"pinned_tweet_id\",\"profile_image_url\",\n",
    "                                       \"verified\",\"public_metrics\"])"
   ]
  },
  {
   "cell_type": "code",
   "execution_count": 193,
   "id": "eb69f9cb",
   "metadata": {
    "scrolled": true
   },
   "outputs": [
    {
     "name": "stdout",
     "output_type": "stream",
     "text": [
      "for location we have MN\n",
      "for verified we have False\n",
      "for public_metrics we have {'followers_count': 193, 'following_count': 589, 'tweet_count': 994, 'listed_count': 3}\n",
      "for id we have 33029025\n",
      "for profile_image_url we have https://pbs.twimg.com/profile_images/2680483898/b30ae76f909352dbae5e371fb1c27454_normal.png\n",
      "for created_at we have 2009-04-18 22:08:22+00:00\n",
      "for username we have 37chandler\n",
      "for description we have He/Him. Data scientist, urban cyclist, educator, erstwhile frisbee player. \n",
      "\n",
      "¯\\_(ツ)_/¯\n",
      "for name we have John Chandler\n"
     ]
    }
   ],
   "source": [
    "for field, value in response.data.items() :\n",
    "    print(f\"for {field} we have {value}\")"
   ]
  },
  {
   "cell_type": "markdown",
   "id": "6abc5dc6",
   "metadata": {},
   "source": [
    "Now a few questions for you about the user object.\n",
    "\n",
    "Q: How many fields are being returned in the `response` object? \n",
    "\n",
    "A: 4 fields (data, includes, errors, meta)\n",
    "\n",
    "---\n",
    "\n",
    "Q: Are any of the fields within the user object non-scalar? (I.e., more complicated than a simple data type like integer, float, string, boolean, etc.) \n",
    "\n",
    "A: Yes, the public_metrics is a json object which consists of multiple fields such as followers_count, following_count, etc.\n",
    "\n",
    "---\n",
    "\n",
    "Q: How many friends, followers, and tweets does this user have? \n",
    "\n",
    "A: 193 friends, 589 followers, and 994 tweets.\n"
   ]
  },
  {
   "cell_type": "markdown",
   "id": "d8564d2c",
   "metadata": {},
   "source": [
    "Although you won't need it for this assignment, individual tweets can be a rich source of text-based data. To illustrate the concepts, let's look at the last few tweets for this user. You are encouraged to explore the fields that are available about Tweets."
   ]
  },
  {
   "cell_type": "code",
   "execution_count": 196,
   "id": "70b8e93a",
   "metadata": {},
   "outputs": [
    {
     "name": "stdout",
     "output_type": "stream",
     "text": [
      "1568242374085869570\n",
      "RT @depthsofwiki: lots of memes about speedy wikipedia editors — quick thread about what went down on wikipedia in the minutes after her de…\n",
      "\n",
      "1568074978754703361\n",
      "@DrLaurenWilson @leighradwood @MaritsaGeorgiou @Walgreens I could not possibly agree more with this sentiment. Compared to almost any other primary care I've received, they are great.\n",
      "\n",
      "1567530169686196224\n",
      "@DrLaurenWilson @MaritsaGeorgiou @Walgreens For those who have access to Curry Health Center on campus, you can get a bivalent booster in 15 minutes from their delightful staff.\n",
      "\n",
      "1567511181526708224\n",
      "RT @shes_the_maNN1: I can’t describe how ancient this makes me feel. https://t.co/a1IvELjOFY\n",
      "\n",
      "1567510612665864193\n",
      "RT @AngryBlackLady: this is hilarious\n",
      "\n",
      "1566031636457725953\n",
      "RT @MarkJacob16: With all the arguments over whether MAGA Republicans are fascists, I reread William Shirer’s “The Rise and Fall of the Thi…\n",
      "\n",
      "1563737816219000832\n",
      "RT @wonderofscience: The Milky Way galaxy and a phenomenon known as \"airglow\" seen from the International Space Station. https://t.co/bOLt8…\n",
      "\n",
      "1563243769209954305\n",
      "Such an awesome idea from @EmilyMandel to write some bonus content for “Sea of Tranquility” editions sold at independent book stores. Fantastic book, too. 👏👏👏 https://t.co/EMGpCEsKTn\n",
      "\n",
      "1562631400737865730\n",
      "RT @champnella: Detroit rapper @GmacCash made a song about the Belle Isle Giant Slide and it's fantastic!  Put it with some clips and, well…\n",
      "\n",
      "1561741500907720704\n",
      "RT @Sammi_Slammy: Ugly laughing in the airport right now. https://t.co/IoTQHM3Xey\n",
      "\n"
     ]
    }
   ],
   "source": [
    "\n",
    "response = client.get_users_tweets(user_obj.data.id)\n",
    "\n",
    "# By default, only the ID and text fields of each Tweet will be returned\n",
    "for idx, tweet in enumerate(response.data) :\n",
    "    print(tweet.id)\n",
    "    print(tweet.text)\n",
    "    print()\n",
    "    \n",
    "    if idx > 10 :\n",
    "        break"
   ]
  },
  {
   "cell_type": "markdown",
   "id": "66d50726",
   "metadata": {},
   "source": [
    "## Pulling Follower Information\n",
    "\n",
    "In this next section of the assignment, we will pull information about the followers of your two artists. We've seen above how to pull a set of followers using `client.get_users_followers`. This function has a parameter, `max_results`, that we can use to change the number of followers that we pull. Unfortunately, we can only pull 1000 followers at a time, which means we will need to handle the _pagination_ of our results. \n",
    "\n",
    "The return object has the `.data` field, where the results will be found. It also has `.meta`, which we use to select the next \"page\" in the results using the `next_token` result. I will illustrate the ideas using our user from above. \n",
    "\n",
    "\n",
    "### Rate Limiting\n",
    "\n",
    "Twitter limits the rates at which we can pull data, as detailed in [this guide](https://developer.twitter.com/en/docs/twitter-api/rate-limits). We can make 15 user requests per 15 minutes, meaning that we can pull $4 \\cdot 15 \\cdot 1000 = 60000$ users per hour. I illustrate the handling of rate limiting below, though whether or not you hit that part of the code depends on your value of `handle`.  \n",
    "\n",
    "\n",
    "In the below example, I'll pull all the followers, 25 at a time. (We're using 25 to illustrate the idea; when you do this set the value to 1000.) "
   ]
  },
  {
   "cell_type": "code",
   "execution_count": 217,
   "id": "e5236335",
   "metadata": {},
   "outputs": [],
   "source": [
    "handle_followers = []\n",
    "pulls = 0\n",
    "max_pulls = 5\n",
    "next_token = None\n",
    "\n",
    "while True :\n",
    "\n",
    "    followers = client.get_users_followers(\n",
    "        user_obj.data.id, \n",
    "        max_results = 25, \n",
    "        pagination_token = next_token,\n",
    "        user_fields=[\"created_at\",\"description\",\"location\",\n",
    "                     \"entities\",\"name\",\"pinned_tweet_id\",\"profile_image_url\",\n",
    "                     \"verified\",\"public_metrics\"]\n",
    "    )\n",
    "    pulls += 1\n",
    "    \n",
    "    for follower in followers.data : \n",
    "        follower_row = (follower.id,follower.name,follower.created_at,follower.description)\n",
    "        handle_followers.append(follower_row)\n",
    "    \n",
    "    if 'next_token' in followers.meta and pulls < max_pulls :\n",
    "        next_token = followers.meta['next_token']\n",
    "    else : \n",
    "        break"
   ]
  },
  {
   "cell_type": "markdown",
   "id": "9f3ec0e5",
   "metadata": {},
   "source": [
    "## Pulling Twitter Data for Your Artists\n",
    "\n",
    "Now let's take a look at your artists and see how long it is going to take to pull all their followers. "
   ]
  },
  {
   "cell_type": "code",
   "execution_count": 68,
   "id": "6b37383c",
   "metadata": {},
   "outputs": [
    {
     "name": "stdout",
     "output_type": "stream",
     "text": [
      "It would take 4.84 hours to pull all 290,444 followers for MaherZains. \n",
      "\n",
      "It would take 12.79 hours to pull all 767,285 followers for SamiYusuf. \n",
      "\n"
     ]
    }
   ],
   "source": [
    "artists = dict()\n",
    "\n",
    "for handle in ['MaherZains','SamiYusuf'] : \n",
    "    user_obj = client.get_user(username=handle,user_fields=[\"public_metrics\"])\n",
    "    artists[handle] = (user_obj.data.id, \n",
    "                       handle,\n",
    "                       user_obj.data.public_metrics['followers_count'])\n",
    "    \n",
    "\n",
    "for artist, data in artists.items() : \n",
    "    print(f\"It would take {data[2]/(1000*15*4):.2f} hours to pull all {data[2]:,} followers for {artist}. \\n\")\n",
    "    "
   ]
  },
  {
   "cell_type": "markdown",
   "id": "dc6ed3f9",
   "metadata": {},
   "source": [
    "Depending on what you see in the display above, you may want to limit how many followers you pull. It'd be great to get at least 200,000 per artist. \n",
    "\n",
    "As we pull data for each artist we will write their data to a folder called \"twitter\", so we will make that folder if needed."
   ]
  },
  {
   "cell_type": "code",
   "execution_count": 37,
   "id": "e3a32641",
   "metadata": {},
   "outputs": [],
   "source": [
    "# Make the \"twitter\" folder here. If you'd like to practice your programming, add functionality \n",
    "# that checks to see if the folder exists. If it does, then \"unlink\" it. Then create a new one.\n",
    "\n",
    "if not os.path.isdir(\"twitter\") : \n",
    "    #shutil.rmtree(\"twitter/\")\n",
    "    os.mkdir(\"twitter\")"
   ]
  },
  {
   "cell_type": "markdown",
   "id": "dd58dd90",
   "metadata": {},
   "source": [
    "In this following cells, build on the above code to pull some of the followers and their data for your two artists. As you pull the data, write the follower ids to a file called `[artist name]_followers.txt` in the \"twitter\" folder. For instance, for Cher I would create a file named `cher_followers.txt`. As you pull the data, also store it in an object like a list or a data frame.\n",
    "\n",
    "In addition to creating a file that only has follower IDs in it, you will create a file that includes user data. From the response object please extract and store the following fields: \n",
    "\n",
    "* screen_name\t\n",
    "* name\t\n",
    "* id\t\n",
    "* location\t\n",
    "* followers_count\t\n",
    "* friends_count\t\n",
    "* description\n",
    "\n",
    "Store the fields with one user per row in a tab-delimited text file with the name `[artist name]_follower_data.txt`. For instance, for Cher I would create a file named `cher_follower_data.txt`. \n",
    "\n",
    "One note: the user's description can have tabs or returns in it, so make sure to clean those out of the description before writing them to the file. I've included some example code to do that below the stub. "
   ]
  },
  {
   "cell_type": "code",
   "execution_count": 5,
   "id": "ad5d24ae",
   "metadata": {},
   "outputs": [],
   "source": [
    "num_followers_to_pull = 200*1000 # feel free to use this to limit the number of followers you pull."
   ]
  },
  {
   "cell_type": "code",
   "execution_count": 6,
   "id": "4f3c7270",
   "metadata": {},
   "outputs": [],
   "source": [
    "def convert_to_line(follower):\n",
    "    \n",
    "    user_id = str(follower.id)\n",
    "    username = str(follower.username)\n",
    "    name = str(follower.name)\n",
    "    location = str(follower.location)\n",
    "    followers_count = str(follower.public_metrics['followers_count'])\n",
    "    following_count = str(follower.public_metrics['following_count'])\n",
    "    \n",
    "    description = follower.description\n",
    "    description = description.replace('\\\\n', '|')\n",
    "    description = description.replace(\"\\n\", \"|\") \n",
    "    description = description.replace(\"\\t\", \"   \") \n",
    "    description = description.replace('\"', '``')\n",
    "    description = description.replace('\\\\u', ' ')     \n",
    "    \n",
    "    return '\\t'.join([user_id, username, name, location, followers_count, following_count, description]) + \"\\n\"\n",
    "  "
   ]
  },
  {
   "cell_type": "code",
   "execution_count": 7,
   "id": "0d1b71d3",
   "metadata": {},
   "outputs": [
    {
     "name": "stderr",
     "output_type": "stream",
     "text": [
      "Rate limit exceeded. Sleeping for 514 seconds.\n",
      "Rate limit exceeded. Sleeping for 892 seconds.\n",
      "Rate limit exceeded. Sleeping for 891 seconds.\n",
      "Rate limit exceeded. Sleeping for 892 seconds.\n",
      "Rate limit exceeded. Sleeping for 890 seconds.\n",
      "Rate limit exceeded. Sleeping for 892 seconds.\n",
      "Rate limit exceeded. Sleeping for 892 seconds.\n",
      "Rate limit exceeded. Sleeping for 891 seconds.\n",
      "Rate limit exceeded. Sleeping for 892 seconds.\n",
      "Rate limit exceeded. Sleeping for 892 seconds.\n",
      "Rate limit exceeded. Sleeping for 892 seconds.\n",
      "Rate limit exceeded. Sleeping for 891 seconds.\n",
      "Rate limit exceeded. Sleeping for 891 seconds.\n",
      "Rate limit exceeded. Sleeping for 892 seconds.\n",
      "Rate limit exceeded. Sleeping for 892 seconds.\n",
      "Rate limit exceeded. Sleeping for 892 seconds.\n",
      "Rate limit exceeded. Sleeping for 892 seconds.\n",
      "Rate limit exceeded. Sleeping for 893 seconds.\n",
      "Rate limit exceeded. Sleeping for 892 seconds.\n",
      "Rate limit exceeded. Sleeping for 889 seconds.\n",
      "Rate limit exceeded. Sleeping for 891 seconds.\n",
      "Rate limit exceeded. Sleeping for 890 seconds.\n",
      "Rate limit exceeded. Sleeping for 890 seconds.\n",
      "Rate limit exceeded. Sleeping for 891 seconds.\n",
      "Rate limit exceeded. Sleeping for 891 seconds.\n",
      "Rate limit exceeded. Sleeping for 889 seconds.\n",
      "Rate limit exceeded. Sleeping for 890 seconds.\n",
      "Rate limit exceeded. Sleeping for 890 seconds.\n",
      "Rate limit exceeded. Sleeping for 891 seconds.\n",
      "Rate limit exceeded. Sleeping for 890 seconds.\n",
      "Rate limit exceeded. Sleeping for 890 seconds.\n",
      "Rate limit exceeded. Sleeping for 888 seconds.\n",
      "Rate limit exceeded. Sleeping for 891 seconds.\n",
      "Rate limit exceeded. Sleeping for 892 seconds.\n",
      "Rate limit exceeded. Sleeping for 891 seconds.\n",
      "Rate limit exceeded. Sleeping for 891 seconds.\n",
      "Rate limit exceeded. Sleeping for 890 seconds.\n",
      "Rate limit exceeded. Sleeping for 891 seconds.\n",
      "Rate limit exceeded. Sleeping for 892 seconds.\n",
      "Rate limit exceeded. Sleeping for 892 seconds.\n",
      "Rate limit exceeded. Sleeping for 892 seconds.\n",
      "Rate limit exceeded. Sleeping for 892 seconds.\n",
      "Rate limit exceeded. Sleeping for 892 seconds.\n",
      "Rate limit exceeded. Sleeping for 893 seconds.\n",
      "Rate limit exceeded. Sleeping for 891 seconds.\n",
      "Rate limit exceeded. Sleeping for 892 seconds.\n",
      "Rate limit exceeded. Sleeping for 892 seconds.\n",
      "Rate limit exceeded. Sleeping for 893 seconds.\n",
      "Rate limit exceeded. Sleeping for 893 seconds.\n",
      "Rate limit exceeded. Sleeping for 893 seconds.\n",
      "Rate limit exceeded. Sleeping for 894 seconds.\n"
     ]
    },
    {
     "name": "stdout",
     "output_type": "stream",
     "text": [
      "12:39:44.472675\n"
     ]
    }
   ],
   "source": [
    "# Modify the below code stub to pull the follower IDs and write them to a file. \n",
    "fetch_fields = ['id', 'username', 'name', 'location', 'public_metrics', 'description']\n",
    "column_names = ['user_id', 'username', 'name', 'location', 'followers_count', 'following_count', 'description']\n",
    "\n",
    "handles = ['MaherZains','SamiYusuf']\n",
    "\n",
    "# Grabs the time when we start making requests to the API\n",
    "start_time = datetime.datetime.now()\n",
    "\n",
    "for handle in handles :    \n",
    "    followers_output_file = handle + \"_followers.txt\"\n",
    "    user_data_output_file = handle + \"_follower_data.txt\"\n",
    "    \n",
    "    handle_followers = []\n",
    "    next_token = '2VTJA8E6P27HAZZZ'\n",
    "    count = 0\n",
    "    user_obj = client.get_user(username=handle)\n",
    "    \n",
    "    with open(f'twitter/{user_data_output_file}','a') as f:\n",
    "        f.write(\"\\t\".join(column_names) + '\\n')\n",
    "    \n",
    "    with open(f'twitter/{followers_output_file}','a') as f:\n",
    "        f.write('user_id' + '\\n')    \n",
    "    \n",
    "    while True :\n",
    "\n",
    "        followers = client.get_users_followers(\n",
    "            user_obj.data.id,  max_results = 1000, \n",
    "            pagination_token = next_token, user_fields=fetch_fields)\n",
    "                \n",
    "        for follower in followers.data : \n",
    "            \n",
    "            follower_info = convert_to_line(follower)\n",
    "                        \n",
    "            with open(f'twitter/{user_data_output_file}','a') as f:\n",
    "                f.write(follower_info)\n",
    "            \n",
    "            with open(f'twitter/{followers_output_file}','a') as f:\n",
    "                f.write(str(follower.id) + '\\n')\n",
    "                \n",
    "            if count < num_followers_to_pull: \n",
    "                count += 1 \n",
    "            else:\n",
    "                break   \n",
    "                                                                               \n",
    "        if 'next_token' in followers.meta:\n",
    "            next_token = followers.meta['next_token']\n",
    "            \n",
    "            with open(f'next_token_1.txt','a') as f:\n",
    "                f.write(str(count) + ' ' + str(next_token) + '\\n')     \n",
    "                \n",
    "        else:\n",
    "            break\n",
    "          \n",
    "        \n",
    "# Let's see how long it took to grab all follower IDs\n",
    "end_time = datetime.datetime.now()\n",
    "print(end_time - start_time)"
   ]
  },
  {
   "cell_type": "code",
   "execution_count": 8,
   "id": "2311694f",
   "metadata": {},
   "outputs": [
    {
     "data": {
      "text/plain": [
       "'Home by Warsan Shire no one leaves home unless home is the mouth of a shark. you only run for the border when you see the whole city running as well.'"
      ]
     },
     "execution_count": 8,
     "metadata": {},
     "output_type": "execute_result"
    }
   ],
   "source": [
    "tricky_description = \"\"\"\n",
    "    Home by Warsan Shire\n",
    "    \n",
    "    no one leaves home unless\n",
    "    home is the mouth of a shark.\n",
    "    you only run for the border\n",
    "    when you see the whole city\n",
    "    running as well.\n",
    "\n",
    "\"\"\"\n",
    "# This won't work in a tab-delimited text file.\n",
    "\n",
    "clean_description = re.sub(r\"\\s+\",\" \",tricky_description).strip()\n",
    "clean_description"
   ]
  },
  {
   "cell_type": "markdown",
   "id": "45c13af3",
   "metadata": {},
   "source": [
    "---\n",
    "\n",
    "# Lyrics Scrape\n",
    "\n",
    "This section asks you to pull data from the Twitter API and scrape www.AZLyrics.com. In the notebooks where you do that work you are asked to store the data in specific ways. "
   ]
  },
  {
   "cell_type": "code",
   "execution_count": 13,
   "id": "5bd7df77",
   "metadata": {},
   "outputs": [],
   "source": [
    "artists = {'maher_zain':\"https://www.azlyrics.com/m/maherzain.html\",\n",
    "           'sami_yusuf':\"https://www.azlyrics.com/s/samiyusuf.html\"} \n",
    "# we'll use this dictionary to hold both the artist name and the link on AZlyrics"
   ]
  },
  {
   "cell_type": "markdown",
   "id": "c236c99b",
   "metadata": {},
   "source": [
    "## A Note on Rate Limiting\n",
    "\n",
    "The lyrics site, www.azlyrics.com, does not have an explicit maximum on number of requests in any one time, but in our testing it appears that too many requests in too short a time will cause the site to stop returning lyrics pages. (Entertainingly, the page that gets returned seems to only have the song title to [a Tom Jones song](https://www.azlyrics.com/lyrics/tomjones/itsnotunusual.html).) \n",
    "\n",
    "Whenever you call `requests.get` to retrieve a page, put a `time.sleep(5 + 10*random.random())` on the next line. This will help you not to get blocked. If you _do_ get blocked, which you can identify if the returned pages are not correct, just request a lyrics page through your browser. You'll be asked to perform a CAPTCHA and then your requests should start working again. \n",
    "\n",
    "## Part 1: Finding Links to Songs Lyrics\n",
    "\n",
    "That general artist page has a list of all songs for that artist with links to the individual song pages. \n",
    "\n",
    "Q: Take a look at the `robots.txt` page on www.azlyrics.com. (You can read more about these pages [here](https://developers.google.com/search/docs/advanced/robots/intro).) Is the scraping we are about to do allowed or disallowed by this page? How do you know? \n",
    "\n",
    "A: Yes; since we are scraping a HTML file\n"
   ]
  },
  {
   "cell_type": "code",
   "execution_count": 29,
   "id": "ac9d31ec",
   "metadata": {},
   "outputs": [
    {
     "data": {
      "text/plain": [
       "{'maher_zain': ['/lyrics/maherzain/alwaysbethere.html',\n",
       "  '/lyrics/maherzain/yanabisalamalayka.html',\n",
       "  '/lyrics/maherzain/inshaallah.html',\n",
       "  '/lyrics/maherzain/palestinewillbefree.html',\n",
       "  '/lyrics/maherzain/thankyouallah.html',\n",
       "  '/lyrics/maherzain/allahiallahkiyakaro.html',\n",
       "  '/lyrics/maherzain/thechosenone.html',\n",
       "  '/lyrics/maherzain/barakaallahulakuma.html',\n",
       "  '/lyrics/maherzain/fortherestofmylife.html',\n",
       "  '/lyrics/maherzain/holdmyhand.html',\n",
       "  '/lyrics/maherzain/awaken.html',\n",
       "  '/lyrics/maherzain/subhanaallah.html',\n",
       "  '/lyrics/maherzain/openyoureyes.html',\n",
       "  '/lyrics/maherzain/yanabisalamalaykaarabicversion.html',\n",
       "  '/lyrics/maherzain/iloveyouso.html',\n",
       "  '/lyrics/maherzain/numberoneforme.html',\n",
       "  '/lyrics/maherzain/mawlaya.html',\n",
       "  '/lyrics/maherzain/mylittlegirl.html',\n",
       "  '/lyrics/maherzain/forgiveme.html',\n",
       "  '/lyrics/maherzain/onebigfamily.html',\n",
       "  '/lyrics/maherzain/assalamualayka.html',\n",
       "  '/lyrics/maherzain/paradise.html',\n",
       "  '/lyrics/maherzain/mashaallah.html',\n",
       "  '/lyrics/maherzain/radhitubillahirabba.html',\n",
       "  '/lyrics/maherzain/freedom.html',\n",
       "  '/lyrics/maherzain/sosoon.html',\n",
       "  '/lyrics/maherzain/muhammadpbuh.html',\n",
       "  '/lyrics/maherzain/guidemealltheway.html',\n",
       "  '/lyrics/maherzain/kumilikmu.html',\n",
       "  '/lyrics/maherzain/tuntunkupadamu.html',\n",
       "  '/lyrics/maherzain/thepower.html',\n",
       "  '/lyrics/maherzain/medina.html',\n",
       "  '/lyrics/maherzain/peacebeuponyou.html',\n",
       "  '/lyrics/maherzain/goodday.html',\n",
       "  '/lyrics/maherzain/bymyside.html',\n",
       "  '/lyrics/maherzain/jannahenglishversion.html',\n",
       "  '/lyrics/maherzain/imalive.html',\n",
       "  '/lyrics/maherzain/allahyamoulana.html',\n",
       "  '/lyrics/maherzain/rabbeeyebarikenglishversion.html',\n",
       "  '/lyrics/maherzain/truelove.html',\n",
       "  '/lyrics/maherzain/letitgo.html',\n",
       "  '/lyrics/maherzain/thewayoflove.html',\n",
       "  '/lyrics/maherzain/closetoyou.html',\n",
       "  '/lyrics/maherzain/oneday.html',\n",
       "  '/lyrics/maherzain/ummatienglishversion.html',\n",
       "  '/lyrics/maherzain/bilthikr.html',\n",
       "  '/lyrics/maherzain/medina.html',\n",
       "  '/lyrics/maherzain/peacebeuponyou.html',\n",
       "  '/lyrics/maherzain/jannaharabicversion.html',\n",
       "  '/lyrics/maherzain/goodday.html',\n",
       "  '/lyrics/maherzain/allahyamoulana.html',\n",
       "  '/lyrics/maherzain/imalive.html',\n",
       "  '/lyrics/maherzain/rabbeeyebarikarabicversion.html',\n",
       "  '/lyrics/maherzain/truelove.html',\n",
       "  '/lyrics/maherzain/tadroon.html',\n",
       "  '/lyrics/maherzain/letitgo.html',\n",
       "  '/lyrics/maherzain/bikamoulhimiarabicversion.html',\n",
       "  '/lyrics/maherzain/closetoyou.html',\n",
       "  '/lyrics/maherzain/oneday.html',\n",
       "  '/lyrics/maherzain/ummatiarabicversion.html',\n",
       "  '/lyrics/maherzain/thepower.html',\n",
       "  '/lyrics/maherzain/medina.html',\n",
       "  '/lyrics/maherzain/peacebeuponyou.html',\n",
       "  '/lyrics/maherzain/cennetturkishversion.html',\n",
       "  '/lyrics/maherzain/bymyside.html',\n",
       "  '/lyrics/maherzain/goodday.html',\n",
       "  '/lyrics/maherzain/allahyamevlanaturkishversion.html',\n",
       "  '/lyrics/maherzain/imalive.html',\n",
       "  '/lyrics/maherzain/askmuhabbetturkishversion.html',\n",
       "  '/lyrics/maherzain/truelove.html',\n",
       "  '/lyrics/maherzain/letitgo.html',\n",
       "  '/lyrics/maherzain/osensinkiturkishversion.html',\n",
       "  '/lyrics/maherzain/closetoyou.html',\n",
       "  '/lyrics/maherzain/oneday.html',\n",
       "  '/lyrics/maherzain/ummetimturkishversion.html',\n",
       "  '/lyrics/maherzain/ramadangana.html',\n",
       "  '/lyrics/maherzain/qalbisajad.html',\n",
       "  '/lyrics/maherzain/laytakamaana.html',\n",
       "  '/lyrics/maherzain/nouralanour.html',\n",
       "  '/lyrics/maherzain/huwaahmadun.html',\n",
       "  '/lyrics/maherzain/qalbisajadextendedversion.html',\n",
       "  '/lyrics/maherzain/alanahjikmashayt.html',\n",
       "  '/lyrics/maherzain/antassalam.html',\n",
       "  '/lyrics/maherzain/asmaallahalhusnathe99namesofallah.html',\n",
       "  '/lyrics/maherzain/assalamualaykaenglishversion.html',\n",
       "  '/lyrics/maherzain/assubhubada.html',\n",
       "  '/lyrics/maherzain/breakthechains.html',\n",
       "  '/lyrics/maherzain/eidunmubarak.html',\n",
       "  '/lyrics/maherzain/glmeksadaka.html',\n",
       "  '/lyrics/maherzain/hubbennabi.html',\n",
       "  '/lyrics/maherzain/huwaalquran.html',\n",
       "  '/lyrics/maherzain/kunrahma.html',\n",
       "  '/lyrics/maherzain/kuran.html',\n",
       "  '/lyrics/maherzain/lahza.html',\n",
       "  '/lyrics/maherzain/lawlaka.html',\n",
       "  '/lyrics/maherzain/liveitup.html',\n",
       "  '/lyrics/maherzain/lovewillprevail.html',\n",
       "  '/lyrics/maherzain/nasteshbehlena.html',\n",
       "  '/lyrics/maherzain/neverforget.html',\n",
       "  '/lyrics/maherzain/noonebutyou.html',\n",
       "  '/lyrics/maherzain/nurunebiturkishversion.html',\n",
       "  '/lyrics/maherzain/peacebeuponyoubahasaversion.html',\n",
       "  '/lyrics/maherzain/rahmatunlilalameen.html',\n",
       "  '/lyrics/maherzain/ramadan.html',\n",
       "  '/lyrics/maherzain/ramadanarabicversion.html',\n",
       "  '/lyrics/maherzain/ramadanmalaybahasaversion.html',\n",
       "  '/lyrics/maherzain/ramadanturkishversion.html',\n",
       "  '/lyrics/maherzain/sepanjanghidup.html',\n",
       "  '/lyrics/maherzain/srebrenica.html',\n",
       "  '/lyrics/maherzain/thisworldlylifedunya.html',\n",
       "  '/lyrics/maherzain/toujoursproche.html',\n",
       "  '/lyrics/maherzain/ummimother.html',\n",
       "  '/lyrics/maherzain/yakhuda.html'],\n",
       " 'sami_yusuf': ['/lyrics/samiyusuf/almuallim.html',\n",
       "  '/lyrics/samiyusuf/whoisthelovedone.html',\n",
       "  '/lyrics/samiyusuf/thecaveofhira.html',\n",
       "  '/lyrics/samiyusuf/allahu.html',\n",
       "  '/lyrics/samiyusuf/thecreator.html',\n",
       "  '/lyrics/samiyusuf/meditation.html',\n",
       "  '/lyrics/samiyusuf/yamustafa.html',\n",
       "  '/lyrics/samiyusuf/supplication.html',\n",
       "  '/lyrics/samiyusuf/myummahintro.html',\n",
       "  '/lyrics/samiyusuf/myummah.html',\n",
       "  '/lyrics/samiyusuf/hasbirabbi.html',\n",
       "  '/lyrics/samiyusuf/yarasulallah.html',\n",
       "  '/lyrics/samiyusuf/trynottocry.html',\n",
       "  '/lyrics/samiyusuf/muhammad.html',\n",
       "  '/lyrics/samiyusuf/makeaprayer.html',\n",
       "  '/lyrics/samiyusuf/eidsong.html',\n",
       "  '/lyrics/samiyusuf/free.html',\n",
       "  '/lyrics/samiyusuf/munajatarabic.html',\n",
       "  '/lyrics/samiyusuf/motherarabic.html',\n",
       "  '/lyrics/samiyusuf/wewillneversubmit.html',\n",
       "  '/lyrics/samiyusuf/dua.html',\n",
       "  '/lyrics/samiyusuf/motherturkish.html',\n",
       "  '/lyrics/samiyusuf/asmaallah.html',\n",
       "  '/lyrics/samiyusuf/withoutyou.html',\n",
       "  '/lyrics/samiyusuf/myonlywishinterlude.html',\n",
       "  '/lyrics/samiyusuf/foreverpalestine.html',\n",
       "  '/lyrics/samiyusuf/heisthere.html',\n",
       "  '/lyrics/samiyusuf/sallou.html',\n",
       "  '/lyrics/samiyusuf/athousandtimes.html',\n",
       "  '/lyrics/samiyusuf/nevernever.html',\n",
       "  '/lyrics/samiyusuf/anythingforyou.html',\n",
       "  '/lyrics/samiyusuf/salutation.html',\n",
       "  '/lyrics/samiyusuf/notinmyname.html',\n",
       "  '/lyrics/samiyusuf/whereveryouare.html',\n",
       "  '/lyrics/samiyusuf/salaam.html',\n",
       "  '/lyrics/samiyusuf/withoutyou.html',\n",
       "  '/lyrics/samiyusuf/youcametomeenglish.html',\n",
       "  '/lyrics/samiyusuf/givetheyoungachance.html',\n",
       "  '/lyrics/samiyusuf/trialsoflife.html',\n",
       "  '/lyrics/samiyusuf/worryends.html',\n",
       "  '/lyrics/samiyusuf/fragileworld.html',\n",
       "  '/lyrics/samiyusuf/ineverytearheisthere.html',\n",
       "  '/lyrics/samiyusuf/makemestrong.html',\n",
       "  '/lyrics/samiyusuf/nowordisworthy.html',\n",
       "  '/lyrics/samiyusuf/healing.html',\n",
       "  '/lyrics/samiyusuf/youcametomearabic.html',\n",
       "  '/lyrics/samiyusuf/youcametometurkish.html',\n",
       "  '/lyrics/samiyusuf/youcametomepersian.html',\n",
       "  '/lyrics/samiyusuf/happiness.html',\n",
       "  '/lyrics/samiyusuf/salaam.html',\n",
       "  '/lyrics/samiyusuf/smile.html',\n",
       "  '/lyrics/samiyusuf/thesource.html',\n",
       "  '/lyrics/samiyusuf/dryerland.html',\n",
       "  '/lyrics/samiyusuf/itsagame.html',\n",
       "  '/lyrics/samiyusuf/toguideyouhome.html',\n",
       "  '/lyrics/samiyusuf/forgottenpromises.html',\n",
       "  '/lyrics/samiyusuf/alabidikhrika.html',\n",
       "  '/lyrics/samiyusuf/imyourhope.html',\n",
       "  '/lyrics/samiyusuf/allineed.html',\n",
       "  '/lyrics/samiyusuf/hearyourcall.html',\n",
       "  '/lyrics/samiyusuf/pearl.html',\n",
       "  '/lyrics/samiyusuf/fire.html',\n",
       "  '/lyrics/samiyusuf/go.html',\n",
       "  '/lyrics/samiyusuf/khorasan.html',\n",
       "  '/lyrics/samiyusuf/prism.html',\n",
       "  '/lyrics/samiyusuf/circle.html',\n",
       "  '/lyrics/samiyusuf/you.html',\n",
       "  '/lyrics/samiyusuf/thecentre.html',\n",
       "  '/lyrics/samiyusuf/lament.html',\n",
       "  '/lyrics/samiyusuf/thekey.html',\n",
       "  '/lyrics/samiyusuf/jaanehjaanaan.html',\n",
       "  '/lyrics/samiyusuf/sarigelin.html',\n",
       "  '/lyrics/samiyusuf/khorasanarabicversion.html',\n",
       "  '/lyrics/samiyusuf/cadence.html',\n",
       "  '/lyrics/samiyusuf/alhamdulillah.html',\n",
       "  '/lyrics/samiyusuf/letusnotforget.html',\n",
       "  '/lyrics/samiyusuf/terengganu.html',\n",
       "  '/lyrics/samiyusuf/zeeshqat.html',\n",
       "  '/lyrics/samiyusuf/autumn.html',\n",
       "  '/lyrics/samiyusuf/shine.html',\n",
       "  '/lyrics/samiyusuf/theparties.html',\n",
       "  '/lyrics/samiyusuf/innafiljannati.html',\n",
       "  '/lyrics/samiyusuf/hamziyya.html',\n",
       "  '/lyrics/samiyusuf/yarasulallahparti.html',\n",
       "  '/lyrics/samiyusuf/yarasulallahpartii.html',\n",
       "  '/lyrics/samiyusuf/fiyyashiyya.html',\n",
       "  '/lyrics/samiyusuf/yanabi.html',\n",
       "  '/lyrics/samiyusuf/benyrrmyaneyane.html',\n",
       "  '/lyrics/samiyusuf/araftulhawa.html',\n",
       "  '/lyrics/samiyusuf/yahayyuyaqayyum.html',\n",
       "  '/lyrics/samiyusuf/taha.html',\n",
       "  '/lyrics/samiyusuf/sheqn.html',\n",
       "  '/lyrics/samiyusuf/iron.html',\n",
       "  '/lyrics/samiyusuf/awake.html',\n",
       "  '/lyrics/samiyusuf/mastqalandar.html',\n",
       "  '/lyrics/samiyusuf/shadowless.html',\n",
       "  '/lyrics/samiyusuf/wanderer.html',\n",
       "  '/lyrics/samiyusuf/8.html',\n",
       "  '/lyrics/samiyusuf/callmyname.html',\n",
       "  '/lyrics/samiyusuf/crazy.html',\n",
       "  '/lyrics/samiyusuf/grounded.html',\n",
       "  '/lyrics/samiyusuf/nasimi.html',\n",
       "  '/lyrics/samiyusuf/thegarden.html',\n",
       "  '/lyrics/samiyusuf/azerbaijan.html',\n",
       "  '/lyrics/samiyusuf/alfaqir.html',\n",
       "  '/lyrics/samiyusuf/fortruelovers.html',\n",
       "  '/lyrics/samiyusuf/glorification.html',\n",
       "  '/lyrics/samiyusuf/ilahana.html',\n",
       "  '/lyrics/samiyusuf/mawlana.html',\n",
       "  '/lyrics/samiyusuf/mysong.html',\n",
       "  '/lyrics/samiyusuf/silentwords.html',\n",
       "  '/lyrics/samiyusuf/the99names.html',\n",
       "  '/lyrics/samiyusuf/thegiftoflove.html',\n",
       "  '/lyrics/samiyusuf/thepraisedone.html']}"
      ]
     },
     "execution_count": 29,
     "metadata": {},
     "output_type": "execute_result"
    }
   ],
   "source": [
    "def get_page_songs_hrefs(r):\n",
    "    links = list()\n",
    "    soup = BeautifulSoup(r.content, \"html.parser\") \n",
    "    listalbum = soup.findAll(\"div\", class_ = \"listalbum-item\")\n",
    "\n",
    "    def get_div_link(div):\n",
    "        return BeautifulSoup(str(div), 'html.parser').find(href=True)['href']\n",
    "    \n",
    "    for div in listalbum:\n",
    "        try:\n",
    "            link = get_div_link(div)\n",
    "            links.append(link)\n",
    "        except:\n",
    "            print(f'{div.string} has no link associated with it')\n",
    "        \n",
    "    return links   \n",
    "\n",
    "# Let's set up a dictionary of lists to hold our links\n",
    "lyrics_pages = defaultdict(list)\n",
    "\n",
    "\n",
    "for artist, artist_page in artists.items() :\n",
    "    r = requests.get(artist_page)\n",
    "    lyrics_pages[artist] = get_page_songs_hrefs(r)\n",
    "    time.sleep(5 + 10*random.random())\n",
    "    \n",
    "lyrics_pages"
   ]
  },
  {
   "cell_type": "markdown",
   "id": "9c285ec1",
   "metadata": {},
   "source": [
    "Let's make sure we have enough lyrics pages to scrape. "
   ]
  },
  {
   "cell_type": "code",
   "execution_count": 30,
   "id": "ae4cda68",
   "metadata": {},
   "outputs": [],
   "source": [
    "for artist, lp in lyrics_pages.items() :\n",
    "    assert(len(set(lp)) > 20) "
   ]
  },
  {
   "cell_type": "code",
   "execution_count": 31,
   "id": "edca10d6",
   "metadata": {},
   "outputs": [
    {
     "name": "stdout",
     "output_type": "stream",
     "text": [
      "For maher_zain we have 113.\n",
      "The full pull will take for this artist will take 0.31 hours.\n",
      "For sami_yusuf we have 114.\n",
      "The full pull will take for this artist will take 0.32 hours.\n"
     ]
    }
   ],
   "source": [
    "# Let's see how long it's going to take to pull these lyrics \n",
    "# if we're waiting `5 + 10*random.random()` seconds \n",
    "for artist, links in lyrics_pages.items() : \n",
    "    print(f\"For {artist} we have {len(links)}.\")\n",
    "    print(f\"The full pull will take for this artist will take {round(len(links)*10/3600,2)} hours.\")"
   ]
  },
  {
   "cell_type": "markdown",
   "id": "011be6c6",
   "metadata": {},
   "source": [
    "## Part 2: Pulling Lyrics\n",
    "\n",
    "Now that we have the links to our lyrics pages, let's go scrape them! Here are the steps for this part. \n",
    "\n",
    "1. Create an empty folder in our repo called \"lyrics\". \n",
    "1. Iterate over the artists in `lyrics_pages`. \n",
    "1. Create a subfolder in lyrics with the artist's name. For instance, if the artist was Cher you'd have `lyrics/cher/` in your repo.\n",
    "1. Iterate over the pages. \n",
    "1. Request the page and extract the lyrics from the returned HTML file using BeautifulSoup.\n",
    "1. Use the function below, `generate_filename_from_url`, to create a filename based on the lyrics page, then write the lyrics to a text file with that name. \n"
   ]
  },
  {
   "cell_type": "code",
   "execution_count": 38,
   "id": "67693711",
   "metadata": {},
   "outputs": [],
   "source": [
    "def generate_filename_from_link(link) :\n",
    "    \n",
    "    if not link :\n",
    "        return None\n",
    "    \n",
    "    # drop the http or https and the html\n",
    "    name = link.replace(\"https\",\"\").replace(\"http\",\"\")\n",
    "    name = link.replace(\".html\",\"\")\n",
    "\n",
    "    name = name.replace(\"/lyrics/\",\"\")\n",
    "    \n",
    "    # Replace useless chareacters with UNDERSCORE\n",
    "    name = name.replace(\"://\",\"\").replace(\".\",\"_\").replace(\"/\",\"_\")\n",
    "    \n",
    "    # tack on .txt\n",
    "    name = name + \".txt\"\n",
    "    \n",
    "    return(name)"
   ]
  },
  {
   "cell_type": "code",
   "execution_count": 33,
   "id": "94a78c78",
   "metadata": {},
   "outputs": [],
   "source": [
    "# Make the lyrics folder here. If you'd like to practice your programming, add functionality \n",
    "# that checks to see if the folder exists. If it does, then use shutil.rmtree to remove it and create a new one.\n",
    "\n",
    "def create_folder(path):\n",
    "    if not os.path.exists(path):\n",
    "        os.makedirs(path)\n",
    "\n",
    "create_folder('lyrics')"
   ]
  },
  {
   "cell_type": "code",
   "execution_count": 36,
   "id": "e9e4d8a2",
   "metadata": {},
   "outputs": [],
   "source": [
    "def get_song_lyrics_per_url(url):\n",
    "    r = requests.get(url)\n",
    "    soup = BeautifulSoup(r.content, \"html.parser\") \n",
    "    all_text = soup.find(\"div\", class_ = \"col-xs-12 col-lg-8 text-center\") \n",
    "    starting_position = '<!-- Usage'\n",
    "    end_position = '</div>'\n",
    "    text_lines = str(all_text).splitlines()\n",
    "\n",
    "    while True:\n",
    "        if not starting_position in text_lines[0]:\n",
    "            text_lines.pop(0)\n",
    "        else:\n",
    "            text_lines.pop(0)\n",
    "            break\n",
    "        \n",
    "    text_lines = [line.replace('<br/>', '') for line in text_lines]\n",
    "    \n",
    "    lines_to_keep = list()\n",
    "    for line in text_lines:\n",
    "        if not end_position in line:\n",
    "            lines_to_keep.append(line)\n",
    "        else:\n",
    "            break    \n",
    "    \n",
    "    return '\\n'.join(lines_to_keep)"
   ]
  },
  {
   "cell_type": "code",
   "execution_count": 49,
   "id": "d655b687",
   "metadata": {},
   "outputs": [
    {
     "name": "stdout",
     "output_type": "stream",
     "text": [
      "maherzain_alwaysbethere.txt was saved under maher_zain\n",
      "maherzain_yanabisalamalayka.txt was saved under maher_zain\n",
      "maherzain_inshaallah.txt was saved under maher_zain\n",
      "maherzain_palestinewillbefree.txt was saved under maher_zain\n",
      "maherzain_thankyouallah.txt was saved under maher_zain\n",
      "maherzain_allahiallahkiyakaro.txt was saved under maher_zain\n",
      "maherzain_thechosenone.txt was saved under maher_zain\n",
      "maherzain_barakaallahulakuma.txt was saved under maher_zain\n",
      "maherzain_fortherestofmylife.txt was saved under maher_zain\n",
      "maherzain_holdmyhand.txt was saved under maher_zain\n",
      "maherzain_awaken.txt was saved under maher_zain\n",
      "maherzain_subhanaallah.txt was saved under maher_zain\n",
      "maherzain_openyoureyes.txt was saved under maher_zain\n",
      "maherzain_yanabisalamalaykaarabicversion.txt was saved under maher_zain\n",
      "maherzain_iloveyouso.txt was saved under maher_zain\n",
      "maherzain_numberoneforme.txt was saved under maher_zain\n",
      "maherzain_mawlaya.txt was saved under maher_zain\n",
      "maherzain_mylittlegirl.txt was saved under maher_zain\n",
      "maherzain_forgiveme.txt was saved under maher_zain\n",
      "maherzain_onebigfamily.txt was saved under maher_zain\n",
      "maherzain_assalamualayka.txt was saved under maher_zain\n",
      "maherzain_paradise.txt was saved under maher_zain\n",
      "maherzain_mashaallah.txt was saved under maher_zain\n",
      "maherzain_radhitubillahirabba.txt was saved under maher_zain\n",
      "maherzain_freedom.txt was saved under maher_zain\n",
      "samiyusuf_almuallim.txt was saved under sami_yusuf\n",
      "samiyusuf_whoisthelovedone.txt was saved under sami_yusuf\n",
      "samiyusuf_thecaveofhira.txt was saved under sami_yusuf\n",
      "samiyusuf_allahu.txt was saved under sami_yusuf\n",
      "samiyusuf_thecreator.txt was saved under sami_yusuf\n",
      "samiyusuf_meditation.txt was saved under sami_yusuf\n",
      "samiyusuf_yamustafa.txt was saved under sami_yusuf\n",
      "samiyusuf_supplication.txt was saved under sami_yusuf\n",
      "samiyusuf_myummahintro.txt was saved under sami_yusuf\n",
      "samiyusuf_myummah.txt was saved under sami_yusuf\n",
      "samiyusuf_hasbirabbi.txt was saved under sami_yusuf\n",
      "samiyusuf_yarasulallah.txt was saved under sami_yusuf\n",
      "samiyusuf_trynottocry.txt was saved under sami_yusuf\n",
      "samiyusuf_muhammad.txt was saved under sami_yusuf\n",
      "samiyusuf_makeaprayer.txt was saved under sami_yusuf\n",
      "samiyusuf_eidsong.txt was saved under sami_yusuf\n",
      "samiyusuf_free.txt was saved under sami_yusuf\n",
      "samiyusuf_munajatarabic.txt was saved under sami_yusuf\n",
      "samiyusuf_motherarabic.txt was saved under sami_yusuf\n",
      "samiyusuf_wewillneversubmit.txt was saved under sami_yusuf\n",
      "samiyusuf_dua.txt was saved under sami_yusuf\n",
      "samiyusuf_motherturkish.txt was saved under sami_yusuf\n",
      "samiyusuf_asmaallah.txt was saved under sami_yusuf\n",
      "samiyusuf_withoutyou.txt was saved under sami_yusuf\n",
      "samiyusuf_myonlywishinterlude.txt was saved under sami_yusuf\n"
     ]
    }
   ],
   "source": [
    "url_stub = \"https://www.azlyrics.com\" \n",
    "start = time.time()\n",
    "\n",
    "for artist in lyrics_pages :\n",
    "    create_folder(f'lyrics/{artist}')\n",
    "    total_pages = 0 \n",
    "    for lyrics_page in lyrics_pages[artist]:\n",
    "        url = url_stub + lyrics_page\n",
    "        song_lyrics = get_song_lyrics_per_url(url)\n",
    "        file_name = generate_filename_from_link(lyrics_page)\n",
    "        \n",
    "        with open(f'lyrics/{artist}/{file_name}', 'w') as file:\n",
    "            file.write(song_lyrics)\n",
    "        \n",
    "        print(f'{file_name} was saved under {artist}')\n",
    "        total_pages += 1\n",
    "        \n",
    "        if total_pages == 25:\n",
    "            break\n",
    "        \n",
    "        time.sleep(5 + 15 * random.random())\n",
    "            "
   ]
  },
  {
   "cell_type": "code",
   "execution_count": 50,
   "id": "36c394f1",
   "metadata": {},
   "outputs": [
    {
     "name": "stdout",
     "output_type": "stream",
     "text": [
      "Total run time was 9.33 hours.\n"
     ]
    }
   ],
   "source": [
    "print(f\"Total run time was {round((time.time() - start)/3600,2)} hours.\")"
   ]
  },
  {
   "cell_type": "markdown",
   "id": "054cf14b",
   "metadata": {},
   "source": [
    "---\n",
    "\n",
    "# Evaluation\n",
    "\n",
    "This assignment asks you to pull data from the Twitter API and scrape www.AZLyrics.com.  After you have finished the above sections , run all the cells in this notebook. Print this to PDF and submit it, per the instructions."
   ]
  },
  {
   "cell_type": "code",
   "execution_count": 6,
   "id": "217c2b0a",
   "metadata": {},
   "outputs": [],
   "source": [
    "# Simple word extractor from Peter Norvig: https://norvig.com/spell-correct.html\n",
    "def words(text): \n",
    "    return re.findall(r'\\w+', text.lower())"
   ]
  },
  {
   "cell_type": "markdown",
   "id": "9290b4c3",
   "metadata": {},
   "source": [
    "---\n",
    "\n",
    "## Checking Twitter Data\n",
    "\n",
    "The output from your Twitter API pull should be two files per artist, stored in files with formats like `cher_followers.txt` (a list of all follower IDs you pulled) and `cher_followers_data.txt`. These files should be in a folder named `twitter` within the repository directory. This code summarizes the information at a high level to help the instructor evaluate your work. "
   ]
  },
  {
   "cell_type": "code",
   "execution_count": 43,
   "id": "d2174c46",
   "metadata": {},
   "outputs": [
    {
     "name": "stdout",
     "output_type": "stream",
     "text": [
      "We see two artist handles: SamiYusuf and MaherZains.\n"
     ]
    }
   ],
   "source": [
    "twitter_files = os.listdir(\"twitter\")\n",
    "twitter_files = [f for f in twitter_files if f != \".DS_Store\"]\n",
    "artist_handles = list(set([name.split(\"_\")[0] for name in twitter_files]))\n",
    "\n",
    "print(f\"We see two artist handles: {artist_handles[0]} and {artist_handles[1]}.\")"
   ]
  },
  {
   "cell_type": "code",
   "execution_count": 7,
   "id": "7ad545be",
   "metadata": {},
   "outputs": [
    {
     "name": "stdout",
     "output_type": "stream",
     "text": [
      "We see 201931 in your follower file for SamiYusuf, assuming a header row.\n",
      "In the follower data file (SamiYusuf_follower_data.txt) for SamiYusuf, we have these columns:\n",
      "user_id : username : name : location : followers_count : following_count : description\n",
      "\n",
      "We have 201931 data rows for SamiYusuf in the follower data file.\n",
      "For SamiYusuf we have 20146 unique locations.\n",
      "For SamiYusuf we have 832924 words in the descriptions.\n",
      "Here are the five most common words:\n",
      "[('none', 113941), ('i', 8758), ('and', 6116), ('of', 5879), ('a', 5591)]\n",
      "\n",
      "----------------------------------------\n",
      "\n",
      "We see 204254 in your follower file for MaherZains, assuming a header row.\n",
      "In the follower data file (MaherZains_follower_data.txt) for MaherZains, we have these columns:\n",
      "user_id : username : name : location : followers_count : following_count : description\n",
      "\n",
      "We have 204264 data rows for MaherZains in the follower data file.\n",
      "For MaherZains we have 27419 unique locations.\n",
      "For MaherZains we have 742250 words in the descriptions.\n",
      "Here are the five most common words:\n",
      "[('i', 8194), ('and', 5741), ('of', 5522), ('a', 5280), ('the', 5064)]\n",
      "\n",
      "----------------------------------------\n",
      "\n"
     ]
    }
   ],
   "source": [
    "for artist in artist_handles :\n",
    "    follower_file = artist + \"_followers.txt\"\n",
    "    follower_data_file = artist + \"_follower_data.txt\"\n",
    "    \n",
    "    ids = open(\"twitter/\" + follower_file,'r').readlines()\n",
    "    \n",
    "    print(f\"We see {len(ids)-1} in your follower file for {artist}, assuming a header row.\")\n",
    "    \n",
    "    with open(\"twitter/\" + follower_data_file,'r') as infile :\n",
    "        \n",
    "        # check the headers\n",
    "        headers = infile.readline().split(\"\\t\")\n",
    "        \n",
    "        print(f\"In the follower data file ({follower_data_file}) for {artist}, we have these columns:\")\n",
    "        print(\" : \".join(headers))\n",
    "        \n",
    "        description_words = []\n",
    "        locations = set()\n",
    "        \n",
    "        \n",
    "        for idx, line in enumerate(infile.readlines()) :\n",
    "            line = line.strip(\"\\n\").split(\"\\t\")\n",
    "            \n",
    "            try : \n",
    "                locations.add(line[3])            \n",
    "                description_words.extend(words(line[6]))\n",
    "            except :\n",
    "                pass\n",
    "    \n",
    "    \n",
    "        print(f\"We have {idx+1} data rows for {artist} in the follower data file.\")\n",
    "\n",
    "        print(f\"For {artist} we have {len(locations)} unique locations.\")\n",
    "\n",
    "        print(f\"For {artist} we have {len(description_words)} words in the descriptions.\")\n",
    "        print(\"Here are the five most common words:\")\n",
    "        print(Counter(description_words).most_common(5))\n",
    "\n",
    "        print(\"\")\n",
    "        print(\"-\"*40)\n",
    "        print(\"\")\n",
    "    "
   ]
  },
  {
   "cell_type": "markdown",
   "id": "37778a1c",
   "metadata": {},
   "source": [
    "## Checking Lyrics \n",
    "\n",
    "The output from your lyrics scrape should be stored in files located in this path from the directory:\n",
    "`/lyrics/[Artist Name]/[filename from URL]`. This code summarizes the information at a high level to help the instructor evaluate your work. "
   ]
  },
  {
   "cell_type": "code",
   "execution_count": 8,
   "id": "bccac29c",
   "metadata": {},
   "outputs": [
    {
     "name": "stdout",
     "output_type": "stream",
     "text": [
      "For sami_yusuf we have 25 files.\n",
      "For sami_yusuf we have roughly 5314 words, 1330 are unique.\n",
      "For maher_zain we have 25 files.\n",
      "For maher_zain we have roughly 8659 words, 1235 are unique.\n"
     ]
    }
   ],
   "source": [
    "artist_folders = os.listdir(\"lyrics/\")\n",
    "artist_folders = [f for f in artist_folders if os.path.isdir(\"lyrics/\" + f)]\n",
    "\n",
    "for artist in artist_folders : \n",
    "    artist_files = os.listdir(\"lyrics/\" + artist)\n",
    "    artist_files = [f for f in artist_files if 'txt' in f or 'csv' in f or 'tsv' in f]\n",
    "\n",
    "    print(f\"For {artist} we have {len(artist_files)} files.\")\n",
    "\n",
    "    artist_words = []\n",
    "\n",
    "    for f_name in artist_files : \n",
    "        with open(\"lyrics/\" + artist + \"/\" + f_name) as infile : \n",
    "            artist_words.extend(words(infile.read()))\n",
    "\n",
    "            \n",
    "    print(f\"For {artist} we have roughly {len(artist_words)} words, {len(set(artist_words))} are unique.\")\n"
   ]
  }
 ],
 "metadata": {
  "kernelspec": {
   "display_name": "Python 3.10.6 64-bit",
   "language": "python",
   "name": "python3"
  },
  "language_info": {
   "codemirror_mode": {
    "name": "ipython",
    "version": 3
   },
   "file_extension": ".py",
   "mimetype": "text/x-python",
   "name": "python",
   "nbconvert_exporter": "python",
   "pygments_lexer": "ipython3",
   "version": "3.10.6"
  },
  "vscode": {
   "interpreter": {
    "hash": "aee8b7b246df8f9039afb4144a1f6fd8d2ca17a180786b69acc140d282b71a49"
   }
  }
 },
 "nbformat": 4,
 "nbformat_minor": 5
}
